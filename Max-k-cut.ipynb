{
 "cells": [
  {
   "cell_type": "markdown",
   "metadata": {},
   "source": [
    " The optimization package of Qiskit is mainly for QUBO, or general quadratic problems. However, as we are dealing with max-4-cut, we have terms upto order 4. It seems that we need to implement the QAOA algorithm on a circuit level, unless there are other packages unknown to us."
   ]
  },
  {
   "cell_type": "markdown",
   "metadata": {},
   "source": [
    "Please put reusable functions into python files and keep the minimum amount of code in this notebook. <br>\n",
    "Thanks to Jakob and Franziska, now we have a sample data to work on with. I (Kevin) suggest that we follow a similar structure as 'https://qiskit.org/textbook/ch-applications/qaoa.html'. \n",
    "1. Use brute force to compute the costs for all combinations and find the optimal cost. This will be used for   scoring the performance of our QAOA implementation.\n",
    "2. Construct the mixing hamiltonian and problem Hamiltonian gate by gate and draw out the circuit diagrams. (For this refer to Jezer's document)\n",
    "3. Assemble the circuit and draw the circuit diagram\n",
    "4. Run classical optimization. (I think Qiskit has a few built-in classical optimizers that we can use.)\n",
    "5. Evaluate the results, and check the performance for different problem sizes and circuit depth."
   ]
  },
  {
   "cell_type": "code",
   "execution_count": 1,
   "metadata": {},
   "outputs": [],
   "source": [
    "from data_processing import *\n",
    "from Max_k_cut_functions import *\n",
    "import networkx as nx\n",
    "import matplotlib.pyplot as plt\n",
    "import numpy as np"
   ]
  },
  {
   "cell_type": "code",
   "execution_count": 15,
   "metadata": {},
   "outputs": [],
   "source": [
    "from qiskit import QuantumCircuit, ClassicalRegister, QuantumRegister\n",
    "from qiskit import Aer, execute\n",
    "from qiskit.compiler import transpile\n",
    "from qiskit.circuit import Parameter"
   ]
  },
  {
   "cell_type": "code",
   "execution_count": 3,
   "metadata": {},
   "outputs": [],
   "source": [
    "p = 1  # the depth of QAOA\n",
    "l = 1  # the number of qubits for each node, k = 2^l where k is the number of subgraphs we'd like to cut, \n",
    "       # or to say, the k in 'max-k-cut'. l = 2 for a max-4-cut example \n",
    "n_imp = 2  # the number of important nodes, or to say the nodes with which the associated edges have larger weights\n",
    "n_unimp = 1 # the number of less important nodes ... smaller weights\n",
    "n = n_imp + n_unimp # total number of nodes"
   ]
  },
  {
   "cell_type": "code",
   "execution_count": 4,
   "metadata": {},
   "outputs": [
    {
     "data": {
      "image/png": "[encoded data removed]",
      "text/plain": [
       "<Figure size 432x288 with 1 Axes>"
      ]
     },
     "metadata": {},
     "output_type": "display_data"
    }
   ],
   "source": [
    "G = generate_data(n_unimp, n_imp)\n",
    "pos = nx.spring_layout(G)\n",
    "nx.draw(G, pos, with_labels=True)\n",
    "nx.draw_networkx_edge_labels(G, pos)\n",
    "plt.show()"
   ]
  },
  {
   "cell_type": "code",
   "execution_count": 5,
   "metadata": {},
   "outputs": [
    {
     "name": "stdout",
     "output_type": "stream",
     "text": [
      "[[   0 1227 1108]\n",
      " [1227    0 2314]\n",
      " [1108 2314    0]]\n"
     ]
    }
   ],
   "source": [
    "weights = get_weight_matrix(G)\n",
    "print(weights)"
   ]
  },
  {
   "cell_type": "code",
   "execution_count": 6,
   "metadata": {},
   "outputs": [
    {
     "ename": "IndexError",
     "evalue": "index 4 is out of bounds for axis 1 with size 3",
     "output_type": "error",
     "traceback": [
      "\u001b[0;31m---------------------------------------------------------------------------\u001b[0m",
      "\u001b[0;31mIndexError\u001b[0m                                Traceback (most recent call last)",
      "\u001b[0;32m<ipython-input-6-623242b628ff>\u001b[0m in \u001b[0;36m<module>\u001b[0;34m\u001b[0m\n\u001b[0;32m----> 1\u001b[0;31m \u001b[0mbrut_force_k4_N5\u001b[0m\u001b[0;34m(\u001b[0m\u001b[0mG\u001b[0m\u001b[0;34m)\u001b[0m  \u001b[0;31m# Uses brute force to find the optimal solution, so that we have a reference to test our\u001b[0m\u001b[0;34m\u001b[0m\u001b[0;34m\u001b[0m\u001b[0m\n\u001b[0m\u001b[1;32m      2\u001b[0m                      \u001b[0;31m# algorithm\u001b[0m\u001b[0;34m\u001b[0m\u001b[0;34m\u001b[0m\u001b[0;34m\u001b[0m\u001b[0m\n",
      "\u001b[0;32m~/Documents/Smart-Charging/Max_k_cut_functions.py\u001b[0m in \u001b[0;36mbrut_force_k4_N5\u001b[0;34m(G)\u001b[0m\n\u001b[1;32m    148\u001b[0m                     \u001b[0mP_try\u001b[0m\u001b[0;34m[\u001b[0m\u001b[0;34m'P'\u001b[0m \u001b[0;34m+\u001b[0m \u001b[0mstr\u001b[0m\u001b[0;34m(\u001b[0m\u001b[0mPN3\u001b[0m\u001b[0;34m)\u001b[0m\u001b[0;34m]\u001b[0m\u001b[0;34m.\u001b[0m\u001b[0mappend\u001b[0m\u001b[0;34m(\u001b[0m\u001b[0;36m3\u001b[0m\u001b[0;34m)\u001b[0m\u001b[0;34m\u001b[0m\u001b[0;34m\u001b[0m\u001b[0m\n\u001b[1;32m    149\u001b[0m                     \u001b[0mP_try\u001b[0m\u001b[0;34m[\u001b[0m\u001b[0;34m'P'\u001b[0m \u001b[0;34m+\u001b[0m \u001b[0mstr\u001b[0m\u001b[0;34m(\u001b[0m\u001b[0mPN4\u001b[0m\u001b[0;34m)\u001b[0m\u001b[0;34m]\u001b[0m\u001b[0;34m.\u001b[0m\u001b[0mappend\u001b[0m\u001b[0;34m(\u001b[0m\u001b[0;36m4\u001b[0m\u001b[0;34m)\u001b[0m\u001b[0;34m\u001b[0m\u001b[0;34m\u001b[0m\u001b[0m\n\u001b[0;32m--> 150\u001b[0;31m                     \u001b[0mC_try\u001b[0m \u001b[0;34m=\u001b[0m \u001b[0mcost\u001b[0m\u001b[0;34m(\u001b[0m\u001b[0mG\u001b[0m\u001b[0;34m,\u001b[0m \u001b[0mP_try\u001b[0m\u001b[0;34m)\u001b[0m\u001b[0;34m\u001b[0m\u001b[0;34m\u001b[0m\u001b[0m\n\u001b[0m\u001b[1;32m    151\u001b[0m                     \u001b[0;32mif\u001b[0m \u001b[0mC_try\u001b[0m \u001b[0;34m>\u001b[0m \u001b[0mC_opt\u001b[0m\u001b[0;34m:\u001b[0m\u001b[0;34m\u001b[0m\u001b[0;34m\u001b[0m\u001b[0m\n\u001b[1;32m    152\u001b[0m                         \u001b[0mP\u001b[0m \u001b[0;34m=\u001b[0m \u001b[0mP_try\u001b[0m\u001b[0;34m.\u001b[0m\u001b[0mcopy\u001b[0m\u001b[0;34m(\u001b[0m\u001b[0;34m)\u001b[0m\u001b[0;34m\u001b[0m\u001b[0;34m\u001b[0m\u001b[0m\n",
      "\u001b[0;32m~/Documents/Smart-Charging/Max_k_cut_functions.py\u001b[0m in \u001b[0;36mcost\u001b[0;34m(G, P)\u001b[0m\n\u001b[1;32m    168\u001b[0m     \u001b[0;32mfor\u001b[0m \u001b[0mPr\u001b[0m \u001b[0;32min\u001b[0m \u001b[0mpartitions\u001b[0m\u001b[0;34m:\u001b[0m\u001b[0;34m\u001b[0m\u001b[0;34m\u001b[0m\u001b[0m\n\u001b[1;32m    169\u001b[0m         \u001b[0;32mfor\u001b[0m \u001b[0mPs\u001b[0m \u001b[0;32min\u001b[0m \u001b[0mpartitions\u001b[0m\u001b[0;34m[\u001b[0m\u001b[0mpartitions\u001b[0m\u001b[0;34m.\u001b[0m\u001b[0mindex\u001b[0m\u001b[0;34m(\u001b[0m\u001b[0mPr\u001b[0m\u001b[0;34m)\u001b[0m \u001b[0;34m+\u001b[0m \u001b[0;36m1\u001b[0m\u001b[0;34m:\u001b[0m\u001b[0;34m]\u001b[0m\u001b[0;34m:\u001b[0m\u001b[0;34m\u001b[0m\u001b[0;34m\u001b[0m\u001b[0m\n\u001b[0;32m--> 170\u001b[0;31m             \u001b[0mC\u001b[0m \u001b[0;34m=\u001b[0m \u001b[0mC\u001b[0m \u001b[0;34m+\u001b[0m \u001b[0mcut_weight\u001b[0m\u001b[0;34m(\u001b[0m\u001b[0mG\u001b[0m\u001b[0;34m,\u001b[0m \u001b[0mP\u001b[0m\u001b[0;34m[\u001b[0m\u001b[0mPr\u001b[0m\u001b[0;34m]\u001b[0m\u001b[0;34m,\u001b[0m \u001b[0mP\u001b[0m\u001b[0;34m[\u001b[0m\u001b[0mPs\u001b[0m\u001b[0;34m]\u001b[0m\u001b[0;34m)\u001b[0m\u001b[0;34m\u001b[0m\u001b[0;34m\u001b[0m\u001b[0m\n\u001b[0m\u001b[1;32m    171\u001b[0m             \u001b[0;31m# print('Pr=',Pr , ' Ps=', Ps, '   cut_weight=', cut_weight(G, P[Pr], P[Ps]), '\\n')\u001b[0m\u001b[0;34m\u001b[0m\u001b[0;34m\u001b[0m\u001b[0;34m\u001b[0m\u001b[0m\n\u001b[1;32m    172\u001b[0m     \u001b[0;32mreturn\u001b[0m \u001b[0mC\u001b[0m\u001b[0;34m\u001b[0m\u001b[0;34m\u001b[0m\u001b[0m\n",
      "\u001b[0;32m~/Documents/Smart-Charging/Max_k_cut_functions.py\u001b[0m in \u001b[0;36mcut_weight\u001b[0;34m(G, P1, P2)\u001b[0m\n\u001b[1;32m    183\u001b[0m     \"\"\"\n\u001b[1;32m    184\u001b[0m     \u001b[0mweights\u001b[0m \u001b[0;34m=\u001b[0m \u001b[0mget_weight_matrix\u001b[0m\u001b[0;34m(\u001b[0m\u001b[0mG\u001b[0m\u001b[0;34m)\u001b[0m\u001b[0;34m\u001b[0m\u001b[0;34m\u001b[0m\u001b[0m\n\u001b[0;32m--> 185\u001b[0;31m     \u001b[0mw\u001b[0m \u001b[0;34m=\u001b[0m \u001b[0mnp\u001b[0m\u001b[0;34m.\u001b[0m\u001b[0msum\u001b[0m\u001b[0;34m(\u001b[0m\u001b[0;34m[\u001b[0m\u001b[0mweights\u001b[0m\u001b[0;34m[\u001b[0m\u001b[0mi\u001b[0m\u001b[0;34m,\u001b[0m \u001b[0mj\u001b[0m\u001b[0;34m]\u001b[0m \u001b[0;32mfor\u001b[0m \u001b[0mi\u001b[0m \u001b[0;32min\u001b[0m \u001b[0mP1\u001b[0m \u001b[0;32mfor\u001b[0m \u001b[0mj\u001b[0m \u001b[0;32min\u001b[0m \u001b[0mP2\u001b[0m\u001b[0;34m]\u001b[0m\u001b[0;34m)\u001b[0m\u001b[0;34m\u001b[0m\u001b[0;34m\u001b[0m\u001b[0m\n\u001b[0m\u001b[1;32m    186\u001b[0m     \u001b[0;32mreturn\u001b[0m \u001b[0mw\u001b[0m\u001b[0;34m\u001b[0m\u001b[0;34m\u001b[0m\u001b[0m\n",
      "\u001b[0;32m~/Documents/Smart-Charging/Max_k_cut_functions.py\u001b[0m in \u001b[0;36m<listcomp>\u001b[0;34m(.0)\u001b[0m\n\u001b[1;32m    183\u001b[0m     \"\"\"\n\u001b[1;32m    184\u001b[0m     \u001b[0mweights\u001b[0m \u001b[0;34m=\u001b[0m \u001b[0mget_weight_matrix\u001b[0m\u001b[0;34m(\u001b[0m\u001b[0mG\u001b[0m\u001b[0;34m)\u001b[0m\u001b[0;34m\u001b[0m\u001b[0;34m\u001b[0m\u001b[0m\n\u001b[0;32m--> 185\u001b[0;31m     \u001b[0mw\u001b[0m \u001b[0;34m=\u001b[0m \u001b[0mnp\u001b[0m\u001b[0;34m.\u001b[0m\u001b[0msum\u001b[0m\u001b[0;34m(\u001b[0m\u001b[0;34m[\u001b[0m\u001b[0mweights\u001b[0m\u001b[0;34m[\u001b[0m\u001b[0mi\u001b[0m\u001b[0;34m,\u001b[0m \u001b[0mj\u001b[0m\u001b[0;34m]\u001b[0m \u001b[0;32mfor\u001b[0m \u001b[0mi\u001b[0m \u001b[0;32min\u001b[0m \u001b[0mP1\u001b[0m \u001b[0;32mfor\u001b[0m \u001b[0mj\u001b[0m \u001b[0;32min\u001b[0m \u001b[0mP2\u001b[0m\u001b[0;34m]\u001b[0m\u001b[0;34m)\u001b[0m\u001b[0;34m\u001b[0m\u001b[0;34m\u001b[0m\u001b[0m\n\u001b[0m\u001b[1;32m    186\u001b[0m     \u001b[0;32mreturn\u001b[0m \u001b[0mw\u001b[0m\u001b[0;34m\u001b[0m\u001b[0;34m\u001b[0m\u001b[0m\n",
      "\u001b[0;31mIndexError\u001b[0m: index 4 is out of bounds for axis 1 with size 3"
     ]
    }
   ],
   "source": [
    "brut_force_k4_N5(G)  # Uses brute force to find the optimal solution, so that we have a reference to test our \n",
    "                     # algorithm"
   ]
  },
  {
   "cell_type": "code",
   "execution_count": 7,
   "metadata": {},
   "outputs": [
    {
     "data": {
      "text/html": [
       "<pre style=\"word-wrap: normal;white-space: pre;background: #fff0;line-height: 1.1;font-family: &quot;Courier New&quot;,Courier,monospace\">     ┌──────────┐\n",
       "q_0: ┤ RX(2*β1) ├\n",
       "     ├──────────┤\n",
       "q_1: ┤ RX(2*β1) ├\n",
       "     ├──────────┤\n",
       "q_2: ┤ RX(2*β1) ├\n",
       "     └──────────┘</pre>"
      ],
      "text/plain": [
       "     ┌──────────┐\n",
       "q_0: ┤ RX(2*β1) ├\n",
       "     ├──────────┤\n",
       "q_1: ┤ RX(2*β1) ├\n",
       "     ├──────────┤\n",
       "q_2: ┤ RX(2*β1) ├\n",
       "     └──────────┘"
      ]
     },
     "execution_count": 7,
     "metadata": {},
     "output_type": "execute_result"
    }
   ],
   "source": [
    "mb = make_mixing_block(n,l,1)  # building the mixing block\n",
    "mb.draw()"
   ]
  },
  {
   "cell_type": "code",
   "execution_count": 8,
   "metadata": {},
   "outputs": [
    {
     "data": {
      "text/html": [
       "<pre style=\"word-wrap: normal;white-space: pre;background: #fff0;line-height: 1.1;font-family: &quot;Courier New&quot;,Courier,monospace\">                                                                            »\n",
       "q_0: ──■─────────────────────■────■──────────────────■──────────────────────»\n",
       "     ┌─┴─┐┌───────────────┐┌─┴─┐  │                  │                      »\n",
       "q_1: ┤ X ├┤ RZ(1227*γ1/2) ├┤ X ├──┼──────────────────┼────■─────────────────»\n",
       "     └───┘└───────────────┘└───┘┌─┴─┐┌────────────┐┌─┴─┐┌─┴─┐┌─────────────┐»\n",
       "q_2: ───────────────────────────┤ X ├┤ RZ(554*γ1) ├┤ X ├┤ X ├┤ RZ(1157*γ1) ├»\n",
       "                                └───┘└────────────┘└───┘└───┘└─────────────┘»\n",
       "«          \n",
       "«q_0: ─────\n",
       "«          \n",
       "«q_1: ──■──\n",
       "«     ┌─┴─┐\n",
       "«q_2: ┤ X ├\n",
       "«     └───┘</pre>"
      ],
      "text/plain": [
       "                                                                            »\n",
       "q_0: ──■─────────────────────■────■──────────────────■──────────────────────»\n",
       "     ┌─┴─┐┌───────────────┐┌─┴─┐  │                  │                      »\n",
       "q_1: ┤ X ├┤ RZ(1227*γ1/2) ├┤ X ├──┼──────────────────┼────■─────────────────»\n",
       "     └───┘└───────────────┘└───┘┌─┴─┐┌────────────┐┌─┴─┐┌─┴─┐┌─────────────┐»\n",
       "q_2: ───────────────────────────┤ X ├┤ RZ(554*γ1) ├┤ X ├┤ X ├┤ RZ(1157*γ1) ├»\n",
       "                                └───┘└────────────┘└───┘└───┘└─────────────┘»\n",
       "«          \n",
       "«q_0: ─────\n",
       "«          \n",
       "«q_1: ──■──\n",
       "«     ┌─┴─┐\n",
       "«q_2: ┤ X ├\n",
       "«     └───┘"
      ]
     },
     "execution_count": 8,
     "metadata": {},
     "output_type": "execute_result"
    }
   ],
   "source": [
    "cb = make_cost_block(n,l,weights,1)  # building the cost block \n",
    "cb.draw()"
   ]
  },
  {
   "cell_type": "code",
   "execution_count": 9,
   "metadata": {},
   "outputs": [
    {
     "data": {
      "text/html": [
       "<pre style=\"word-wrap: normal;white-space: pre;background: #fff0;line-height: 1.1;font-family: &quot;Courier New&quot;,Courier,monospace\">     ┌───┐\n",
       "q_0: ┤ H ├\n",
       "     ├───┤\n",
       "q_1: ┤ H ├\n",
       "     ├───┤\n",
       "q_2: ┤ H ├\n",
       "     └───┘</pre>"
      ],
      "text/plain": [
       "     ┌───┐\n",
       "q_0: ┤ H ├\n",
       "     ├───┤\n",
       "q_1: ┤ H ├\n",
       "     ├───┤\n",
       "q_2: ┤ H ├\n",
       "     └───┘"
      ]
     },
     "execution_count": 9,
     "metadata": {},
     "output_type": "execute_result"
    }
   ],
   "source": [
    "ib = make_initial_block(n,l)\n",
    "ib.draw()"
   ]
  },
  {
   "cell_type": "code",
   "execution_count": 10,
   "metadata": {},
   "outputs": [
    {
     "data": {
      "text/html": [
       "<pre style=\"word-wrap: normal;white-space: pre;background: #fff0;line-height: 1.1;font-family: &quot;Courier New&quot;,Courier,monospace\">        ┌───┐┌──────────┐                                                   »\n",
       "   q_0: ┤ H ├┤ RX(2*β0) ├──■─────────────────────■────■──────────────────■──»\n",
       "        ├───┤├──────────┤┌─┴─┐┌───────────────┐┌─┴─┐  │                  │  »\n",
       "   q_1: ┤ H ├┤ RX(2*β0) ├┤ X ├┤ RZ(1227*γ0/2) ├┤ X ├──┼──────────────────┼──»\n",
       "        ├───┤├──────────┤└───┘└───────────────┘└───┘┌─┴─┐┌────────────┐┌─┴─┐»\n",
       "   q_2: ┤ H ├┤ RX(2*β0) ├───────────────────────────┤ X ├┤ RZ(554*γ0) ├┤ X ├»\n",
       "        └───┘└──────────┘                           └───┘└────────────┘└───┘»\n",
       "meas: 3/════════════════════════════════════════════════════════════════════»\n",
       "                                                                            »\n",
       "«        ┌──────────┐                                                      »\n",
       "«   q_0: ┤ RX(2*β1) ├──────────────────────────────────■───────────────────»\n",
       "«        └──────────┘                    ┌──────────┐┌─┴─┐┌───────────────┐»\n",
       "«   q_1: ─────■───────────────────────■──┤ RX(2*β1) ├┤ X ├┤ RZ(1227*γ1/2) ├»\n",
       "«           ┌─┴─┐    ┌─────────────┐┌─┴─┐├──────────┤└───┘└───────────────┘»\n",
       "«   q_2: ───┤ X ├────┤ RZ(1157*γ0) ├┤ X ├┤ RX(2*β1) ├──────────────────────»\n",
       "«           └───┘    └─────────────┘└───┘└──────────┘                      »\n",
       "«meas: 3/══════════════════════════════════════════════════════════════════»\n",
       "«                                                                          »\n",
       "«                                                               ░ ┌─┐      \n",
       "«   q_0: ──■────■──────────────────■────────────────────────────░─┤M├──────\n",
       "«        ┌─┴─┐  │                  │                            ░ └╥┘┌─┐   \n",
       "«   q_1: ┤ X ├──┼──────────────────┼────■───────────────────■───░──╫─┤M├───\n",
       "«        └───┘┌─┴─┐┌────────────┐┌─┴─┐┌─┴─┐┌─────────────┐┌─┴─┐ ░  ║ └╥┘┌─┐\n",
       "«   q_2: ─────┤ X ├┤ RZ(554*γ1) ├┤ X ├┤ X ├┤ RZ(1157*γ1) ├┤ X ├─░──╫──╫─┤M├\n",
       "«             └───┘└────────────┘└───┘└───┘└─────────────┘└───┘ ░  ║  ║ └╥┘\n",
       "«meas: 3/══════════════════════════════════════════════════════════╩══╩══╩═\n",
       "«                                                                  0  1  2 </pre>"
      ],
      "text/plain": [
       "        ┌───┐┌──────────┐                                                   »\n",
       "   q_0: ┤ H ├┤ RX(2*β0) ├──■─────────────────────■────■──────────────────■──»\n",
       "        ├───┤├──────────┤┌─┴─┐┌───────────────┐┌─┴─┐  │                  │  »\n",
       "   q_1: ┤ H ├┤ RX(2*β0) ├┤ X ├┤ RZ(1227*γ0/2) ├┤ X ├──┼──────────────────┼──»\n",
       "        ├───┤├──────────┤└───┘└───────────────┘└───┘┌─┴─┐┌────────────┐┌─┴─┐»\n",
       "   q_2: ┤ H ├┤ RX(2*β0) ├───────────────────────────┤ X ├┤ RZ(554*γ0) ├┤ X ├»\n",
       "        └───┘└──────────┘                           └───┘└────────────┘└───┘»\n",
       "meas: 3/════════════════════════════════════════════════════════════════════»\n",
       "                                                                            »\n",
       "«        ┌──────────┐                                                      »\n",
       "«   q_0: ┤ RX(2*β1) ├──────────────────────────────────■───────────────────»\n",
       "«        └──────────┘                    ┌──────────┐┌─┴─┐┌───────────────┐»\n",
       "«   q_1: ─────■───────────────────────■──┤ RX(2*β1) ├┤ X ├┤ RZ(1227*γ1/2) ├»\n",
       "«           ┌─┴─┐    ┌─────────────┐┌─┴─┐├──────────┤└───┘└───────────────┘»\n",
       "«   q_2: ───┤ X ├────┤ RZ(1157*γ0) ├┤ X ├┤ RX(2*β1) ├──────────────────────»\n",
       "«           └───┘    └─────────────┘└───┘└──────────┘                      »\n",
       "«meas: 3/══════════════════════════════════════════════════════════════════»\n",
       "«                                                                          »\n",
       "«                                                               ░ ┌─┐      \n",
       "«   q_0: ──■────■──────────────────■────────────────────────────░─┤M├──────\n",
       "«        ┌─┴─┐  │                  │                            ░ └╥┘┌─┐   \n",
       "«   q_1: ┤ X ├──┼──────────────────┼────■───────────────────■───░──╫─┤M├───\n",
       "«        └───┘┌─┴─┐┌────────────┐┌─┴─┐┌─┴─┐┌─────────────┐┌─┴─┐ ░  ║ └╥┘┌─┐\n",
       "«   q_2: ─────┤ X ├┤ RZ(554*γ1) ├┤ X ├┤ X ├┤ RZ(1157*γ1) ├┤ X ├─░──╫──╫─┤M├\n",
       "«             └───┘└────────────┘└───┘└───┘└─────────────┘└───┘ ░  ║  ║ └╥┘\n",
       "«meas: 3/══════════════════════════════════════════════════════════╩══╩══╩═\n",
       "«                                                                  0  1  2 "
      ]
     },
     "execution_count": 10,
     "metadata": {},
     "output_type": "execute_result"
    }
   ],
   "source": [
    "circ = make_full_circuit(n,l,weights,2)\n",
    "circ.decompose().draw()"
   ]
  },
  {
   "cell_type": "code",
   "execution_count": 11,
   "metadata": {},
   "outputs": [
    {
     "data": {
      "text/html": [
       "<pre style=\"word-wrap: normal;white-space: pre;background: #fff0;line-height: 1.1;font-family: &quot;Courier New&quot;,Courier,monospace\">        ┌───┐┌─────────────────────────┐                                   »\n",
       "   q_0: ┤ H ├┤ RX(0.00200000000000000) ├──■─────────────────────────────■──»\n",
       "        ├───┤├─────────────────────────┤┌─┴─┐┌───────────────────────┐┌─┴─┐»\n",
       "   q_1: ┤ H ├┤ RX(0.00200000000000000) ├┤ X ├┤ RZ(0.613500000000000) ├┤ X ├»\n",
       "        ├───┤├─────────────────────────┤└───┘└───────────────────────┘└───┘»\n",
       "   q_2: ┤ H ├┤ RX(0.00200000000000000) ├───────────────────────────────────»\n",
       "        └───┘└─────────────────────────┘                                   »\n",
       "meas: 3/═══════════════════════════════════════════════════════════════════»\n",
       "                                                                           »\n",
       "«                                           ┌─────────────────────────┐»\n",
       "«   q_0: ──■─────────────────────────────■──┤ RX(0.00200000000000000) ├»\n",
       "«          │                             │  └─────────────────────────┘»\n",
       "«   q_1: ──┼─────────────────────────────┼───────────────■─────────────»\n",
       "«        ┌─┴─┐┌───────────────────────┐┌─┴─┐           ┌─┴─┐           »\n",
       "«   q_2: ┤ X ├┤ RZ(0.554000000000000) ├┤ X ├───────────┤ X ├───────────»\n",
       "«        └───┘└───────────────────────┘└───┘           └───┘           »\n",
       "«meas: 3/══════════════════════════════════════════════════════════════»\n",
       "«                                                                      »\n",
       "«                                                                     »\n",
       "«   q_0: ──────────────────────────────────────────────────────────■──»\n",
       "«                                     ┌─────────────────────────┐┌─┴─┐»\n",
       "«   q_1: ──────────────────────────■──┤ RX(0.00200000000000000) ├┤ X ├»\n",
       "«        ┌──────────────────────┐┌─┴─┐├─────────────────────────┤└───┘»\n",
       "«   q_2: ┤ RZ(1.15700000000000) ├┤ X ├┤ RX(0.00200000000000000) ├─────»\n",
       "«        └──────────────────────┘└───┘└─────────────────────────┘     »\n",
       "«meas: 3/═════════════════════════════════════════════════════════════»\n",
       "«                                                                     »\n",
       "«                                                                              »\n",
       "«   q_0: ───────────────────────────■────■─────────────────────────────■───────»\n",
       "«        ┌───────────────────────┐┌─┴─┐  │                             │       »\n",
       "«   q_1: ┤ RZ(0.613500000000000) ├┤ X ├──┼─────────────────────────────┼────■──»\n",
       "«        └───────────────────────┘└───┘┌─┴─┐┌───────────────────────┐┌─┴─┐┌─┴─┐»\n",
       "«   q_2: ──────────────────────────────┤ X ├┤ RZ(0.554000000000000) ├┤ X ├┤ X ├»\n",
       "«                                      └───┘└───────────────────────┘└───┘└───┘»\n",
       "«meas: 3/══════════════════════════════════════════════════════════════════════»\n",
       "«                                                                              »\n",
       "«                                      ░ ┌─┐      \n",
       "«   q_0: ──────────────────────────────░─┤M├──────\n",
       "«                                      ░ └╥┘┌─┐   \n",
       "«   q_1: ──────────────────────────■───░──╫─┤M├───\n",
       "«        ┌──────────────────────┐┌─┴─┐ ░  ║ └╥┘┌─┐\n",
       "«   q_2: ┤ RZ(1.15700000000000) ├┤ X ├─░──╫──╫─┤M├\n",
       "«        └──────────────────────┘└───┘ ░  ║  ║ └╥┘\n",
       "«meas: 3/═════════════════════════════════╩══╩══╩═\n",
       "«                                         0  1  2 </pre>"
      ],
      "text/plain": [
       "        ┌───┐┌─────────────────────────┐                                   »\n",
       "   q_0: ┤ H ├┤ RX(0.00200000000000000) ├──■─────────────────────────────■──»\n",
       "        ├───┤├─────────────────────────┤┌─┴─┐┌───────────────────────┐┌─┴─┐»\n",
       "   q_1: ┤ H ├┤ RX(0.00200000000000000) ├┤ X ├┤ RZ(0.613500000000000) ├┤ X ├»\n",
       "        ├───┤├─────────────────────────┤└───┘└───────────────────────┘└───┘»\n",
       "   q_2: ┤ H ├┤ RX(0.00200000000000000) ├───────────────────────────────────»\n",
       "        └───┘└─────────────────────────┘                                   »\n",
       "meas: 3/═══════════════════════════════════════════════════════════════════»\n",
       "                                                                           »\n",
       "«                                           ┌─────────────────────────┐»\n",
       "«   q_0: ──■─────────────────────────────■──┤ RX(0.00200000000000000) ├»\n",
       "«          │                             │  └─────────────────────────┘»\n",
       "«   q_1: ──┼─────────────────────────────┼───────────────■─────────────»\n",
       "«        ┌─┴─┐┌───────────────────────┐┌─┴─┐           ┌─┴─┐           »\n",
       "«   q_2: ┤ X ├┤ RZ(0.554000000000000) ├┤ X ├───────────┤ X ├───────────»\n",
       "«        └───┘└───────────────────────┘└───┘           └───┘           »\n",
       "«meas: 3/══════════════════════════════════════════════════════════════»\n",
       "«                                                                      »\n",
       "«                                                                     »\n",
       "«   q_0: ──────────────────────────────────────────────────────────■──»\n",
       "«                                     ┌─────────────────────────┐┌─┴─┐»\n",
       "«   q_1: ──────────────────────────■──┤ RX(0.00200000000000000) ├┤ X ├»\n",
       "«        ┌──────────────────────┐┌─┴─┐├─────────────────────────┤└───┘»\n",
       "«   q_2: ┤ RZ(1.15700000000000) ├┤ X ├┤ RX(0.00200000000000000) ├─────»\n",
       "«        └──────────────────────┘└───┘└─────────────────────────┘     »\n",
       "«meas: 3/═════════════════════════════════════════════════════════════»\n",
       "«                                                                     »\n",
       "«                                                                              »\n",
       "«   q_0: ───────────────────────────■────■─────────────────────────────■───────»\n",
       "«        ┌───────────────────────┐┌─┴─┐  │                             │       »\n",
       "«   q_1: ┤ RZ(0.613500000000000) ├┤ X ├──┼─────────────────────────────┼────■──»\n",
       "«        └───────────────────────┘└───┘┌─┴─┐┌───────────────────────┐┌─┴─┐┌─┴─┐»\n",
       "«   q_2: ──────────────────────────────┤ X ├┤ RZ(0.554000000000000) ├┤ X ├┤ X ├»\n",
       "«                                      └───┘└───────────────────────┘└───┘└───┘»\n",
       "«meas: 3/══════════════════════════════════════════════════════════════════════»\n",
       "«                                                                              »\n",
       "«                                      ░ ┌─┐      \n",
       "«   q_0: ──────────────────────────────░─┤M├──────\n",
       "«                                      ░ └╥┘┌─┐   \n",
       "«   q_1: ──────────────────────────■───░──╫─┤M├───\n",
       "«        ┌──────────────────────┐┌─┴─┐ ░  ║ └╥┘┌─┐\n",
       "«   q_2: ┤ RZ(1.15700000000000) ├┤ X ├─░──╫──╫─┤M├\n",
       "«        └──────────────────────┘└───┘ ░  ║  ║ └╥┘\n",
       "«meas: 3/═════════════════════════════════╩══╩══╩═\n",
       "«                                         0  1  2 "
      ]
     },
     "execution_count": 11,
     "metadata": {},
     "output_type": "execute_result"
    }
   ],
   "source": [
    "circ = circ.bind_parameters([10**-3,10**-3,10**-3,10**-3])\n",
    "\n",
    "circ.decompose().draw()"
   ]
  },
  {
   "cell_type": "code",
   "execution_count": 16,
   "metadata": {
    "scrolled": true
   },
   "outputs": [
    {
     "name": "stderr",
     "output_type": "stream",
     "text": [
      "Simulation failed and returned the following error message:\n",
      "ERROR:  [Experiment 0] AerSimulator: circuit with instructions {\"instructions\": {gate, barrier, measure}, \"gates\": {circuit-4, circuit-7, circuit-10, circuit-13, circuit-16}} is not compatible with any of the automatic simulation methods\n"
     ]
    },
    {
     "ename": "QiskitError",
     "evalue": "'ERROR:  [Experiment 0] AerSimulator: circuit with instructions {\"instructions\": {gate, barrier, measure}, \"gates\": {circuit-4, circuit-7, circuit-10, circuit-13, circuit-16}} is not compatible with any of the automatic simulation methods ,  ERROR: AerSimulator: circuit with instructions {\"instructions\": {gate, barrier, measure}, \"gates\": {circuit-4, circuit-7, circuit-10, circuit-13, circuit-16}} is not compatible with any of the automatic simulation methods'",
     "output_type": "error",
     "traceback": [
      "\u001b[0;31m---------------------------------------------------------------------------\u001b[0m",
      "\u001b[0;31mQiskitError\u001b[0m                               Traceback (most recent call last)",
      "\u001b[0;32m<ipython-input-16-0d684d586ee8>\u001b[0m in \u001b[0;36m<module>\u001b[0;34m\u001b[0m\n\u001b[1;32m      2\u001b[0m \u001b[0mbackend\u001b[0m \u001b[0;34m=\u001b[0m \u001b[0mAerSimulator\u001b[0m\u001b[0;34m(\u001b[0m\u001b[0;34m)\u001b[0m\u001b[0;34m\u001b[0m\u001b[0;34m\u001b[0m\u001b[0m\n\u001b[1;32m      3\u001b[0m \u001b[0mtranspiled_adder\u001b[0m \u001b[0;34m=\u001b[0m \u001b[0mtranspile\u001b[0m\u001b[0;34m(\u001b[0m\u001b[0mcirc\u001b[0m\u001b[0;34m,\u001b[0m \u001b[0mbackend\u001b[0m\u001b[0;34m)\u001b[0m\u001b[0;34m\u001b[0m\u001b[0;34m\u001b[0m\u001b[0m\n\u001b[0;32m----> 4\u001b[0;31m \u001b[0mcounts\u001b[0m \u001b[0;34m=\u001b[0m \u001b[0mbackend\u001b[0m\u001b[0;34m.\u001b[0m\u001b[0mrun\u001b[0m\u001b[0;34m(\u001b[0m\u001b[0mcirc\u001b[0m\u001b[0;34m,\u001b[0m \u001b[0mnshots\u001b[0m\u001b[0;34m=\u001b[0m\u001b[0;36m512\u001b[0m\u001b[0;34m)\u001b[0m\u001b[0;34m.\u001b[0m\u001b[0mresult\u001b[0m\u001b[0;34m(\u001b[0m\u001b[0;34m)\u001b[0m\u001b[0;34m.\u001b[0m\u001b[0mget_counts\u001b[0m\u001b[0;34m(\u001b[0m\u001b[0;34m)\u001b[0m\u001b[0;34m\u001b[0m\u001b[0;34m\u001b[0m\u001b[0m\n\u001b[0m",
      "\u001b[0;32m~/opt/anaconda3/lib/python3.8/site-packages/qiskit/result/result.py\u001b[0m in \u001b[0;36mget_counts\u001b[0;34m(self, experiment)\u001b[0m\n\u001b[1;32m    261\u001b[0m         \u001b[0mdict_list\u001b[0m \u001b[0;34m=\u001b[0m \u001b[0;34m[\u001b[0m\u001b[0;34m]\u001b[0m\u001b[0;34m\u001b[0m\u001b[0;34m\u001b[0m\u001b[0m\n\u001b[1;32m    262\u001b[0m         \u001b[0;32mfor\u001b[0m \u001b[0mkey\u001b[0m \u001b[0;32min\u001b[0m \u001b[0mexp_keys\u001b[0m\u001b[0;34m:\u001b[0m\u001b[0;34m\u001b[0m\u001b[0;34m\u001b[0m\u001b[0m\n\u001b[0;32m--> 263\u001b[0;31m             \u001b[0mexp\u001b[0m \u001b[0;34m=\u001b[0m \u001b[0mself\u001b[0m\u001b[0;34m.\u001b[0m\u001b[0m_get_experiment\u001b[0m\u001b[0;34m(\u001b[0m\u001b[0mkey\u001b[0m\u001b[0;34m)\u001b[0m\u001b[0;34m\u001b[0m\u001b[0;34m\u001b[0m\u001b[0m\n\u001b[0m\u001b[1;32m    264\u001b[0m             \u001b[0;32mtry\u001b[0m\u001b[0;34m:\u001b[0m\u001b[0;34m\u001b[0m\u001b[0;34m\u001b[0m\u001b[0m\n\u001b[1;32m    265\u001b[0m                 \u001b[0mheader\u001b[0m \u001b[0;34m=\u001b[0m \u001b[0mexp\u001b[0m\u001b[0;34m.\u001b[0m\u001b[0mheader\u001b[0m\u001b[0;34m.\u001b[0m\u001b[0mto_dict\u001b[0m\u001b[0;34m(\u001b[0m\u001b[0;34m)\u001b[0m\u001b[0;34m\u001b[0m\u001b[0;34m\u001b[0m\u001b[0m\n",
      "\u001b[0;32m~/opt/anaconda3/lib/python3.8/site-packages/qiskit/result/result.py\u001b[0m in \u001b[0;36m_get_experiment\u001b[0;34m(self, key)\u001b[0m\n\u001b[1;32m    385\u001b[0m         \u001b[0mresult_status\u001b[0m \u001b[0;34m=\u001b[0m \u001b[0mgetattr\u001b[0m\u001b[0;34m(\u001b[0m\u001b[0mself\u001b[0m\u001b[0;34m,\u001b[0m \u001b[0;34m'status'\u001b[0m\u001b[0;34m,\u001b[0m \u001b[0;34m'Result was not successful'\u001b[0m\u001b[0;34m)\u001b[0m\u001b[0;34m\u001b[0m\u001b[0;34m\u001b[0m\u001b[0m\n\u001b[1;32m    386\u001b[0m         \u001b[0mexp_status\u001b[0m \u001b[0;34m=\u001b[0m \u001b[0mgetattr\u001b[0m\u001b[0;34m(\u001b[0m\u001b[0mexp\u001b[0m\u001b[0;34m,\u001b[0m \u001b[0;34m'status'\u001b[0m\u001b[0;34m,\u001b[0m \u001b[0;34m'Experiment was not successful'\u001b[0m\u001b[0;34m)\u001b[0m\u001b[0;34m\u001b[0m\u001b[0;34m\u001b[0m\u001b[0m\n\u001b[0;32m--> 387\u001b[0;31m         \u001b[0;32mraise\u001b[0m \u001b[0mQiskitError\u001b[0m\u001b[0;34m(\u001b[0m\u001b[0mresult_status\u001b[0m\u001b[0;34m,\u001b[0m \u001b[0;34m\", \"\u001b[0m\u001b[0;34m,\u001b[0m \u001b[0mexp_status\u001b[0m\u001b[0;34m)\u001b[0m\u001b[0;34m\u001b[0m\u001b[0;34m\u001b[0m\u001b[0m\n\u001b[0m",
      "\u001b[0;31mQiskitError\u001b[0m: 'ERROR:  [Experiment 0] AerSimulator: circuit with instructions {\"instructions\": {gate, barrier, measure}, \"gates\": {circuit-4, circuit-7, circuit-10, circuit-13, circuit-16}} is not compatible with any of the automatic simulation methods ,  ERROR: AerSimulator: circuit with instructions {\"instructions\": {gate, barrier, measure}, \"gates\": {circuit-4, circuit-7, circuit-10, circuit-13, circuit-16}} is not compatible with any of the automatic simulation methods'"
     ]
    }
   ],
   "source": [
    "from qiskit.providers.aer import AerSimulator\n",
    "backend = AerSimulator()\n",
    "transpiled_adder = transpile(circ, backend)\n",
    "counts = backend.run(circ, nshots=512).result().get_counts()"
   ]
  },
  {
   "cell_type": "code",
   "execution_count": null,
   "metadata": {},
   "outputs": [],
   "source": []
  }
 ],
 "metadata": {
  "kernelspec": {
   "display_name": "Python 3",
   "language": "python",
   "name": "python3"
  },
  "language_info": {
   "codemirror_mode": {
    "name": "ipython",
    "version": 3
   },
   "file_extension": ".py",
   "mimetype": "text/x-python",
   "name": "python",
   "nbconvert_exporter": "python",
   "pygments_lexer": "ipython3",
   "version": "3.8.5"
  }
 },
 "nbformat": 4,
 "nbformat_minor": 4
}
