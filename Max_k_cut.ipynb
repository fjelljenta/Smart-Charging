{
 "cells": [
  {
   "cell_type": "markdown",
   "metadata": {},
   "source": [
    " The optimization package of Qiskit is mainly for QUBO, or general quadratic problems. However, as we are dealing with max-4-cut, we have terms upto order 4. It seems that we need to implement the QAOA algorithm on a circuit level, unless there are other packages unknown to us."
   ]
  },
  {
   "cell_type": "markdown",
   "metadata": {},
   "source": [
    "Please put reusable functions into python files and keep the minimum amount of code in this notebook. <br>\n",
    "Thanks to Jakob and Franziska, now we have a sample data to work on with. I (Kevin) suggest that we follow a similar structure as 'https://qiskit.org/textbook/ch-applications/qaoa.html'. \n",
    "1. Use brute force to compute the costs for all combinations and find the optimal cost. This will be used for   scoring the performance of our QAOA implementation.\n",
    "2. Construct the mixing hamiltonian and problem Hamiltonian gate by gate and draw out the circuit diagrams. (For this refer to Jezer's document)\n",
    "3. Assemble the circuit and draw the circuit diagram\n",
    "4. Run classical optimization. (I think Qiskit has a few built-in classical optimizers that we can use.)\n",
    "5. Evaluate the results, and check the performance for different problem sizes and circuit depth."
   ]
  },
  {
   "cell_type": "code",
   "execution_count": null,
   "metadata": {},
   "outputs": [],
   "source": [
    "from data_processing import *\n",
    "from Max_k_cut_functions import *\n",
    "import networkx as nx\n",
    "import matplotlib.pyplot as plt\n",
    "import numpy as np\n",
    "from scipy.optimize import minimize"
   ]
  },
  {
   "cell_type": "code",
   "execution_count": null,
   "metadata": {},
   "outputs": [],
   "source": [
    "# Set parameters here\n",
    "\n",
    "p = 1  # the depth of QAOA\n",
    "\n",
    "l = 2  # the number of qubits for each node, k = 2^l where k is the number of subgraphs we'd like to cut, \n",
    "       # or to say, the k in 'max-k-cut'. l = 2 for a max-4-cut example \n",
    "    \n",
    "n_imp = 3  # the number of important nodes, or to say the nodes with which the associated edges have larger weights\n",
    "\n",
    "n_unimp = 2  # the number of less important nodes ... smaller weights\n",
    "\n",
    "nshots = 512  # the number of shots per iteration\n",
    "\n",
    "init_params = [np.pi/8, np.pi]*p  # the initial parameters gammas and betas. This is however unused in the full\n",
    "                                  # optimization loop since the educated global guess optimization does not require\n",
    "                                  # initial guesses. The init_params here will be used later to demonstrate the \n",
    "                                  # performance of a local optimzation alone.\n",
    "\n",
    "local_optimization_method = 'Nelder-Mead'  # the local optimization algorithm to be used, supported by Scipy. \n",
    "                                      # good candidates include 'Powell', 'COBYLA', 'Nelder-Mead', 'BFGS'\n",
    "    \n",
    "###################################################################################################################\n",
    "\n",
    "k = 2**l  # see above\n",
    "n = n_imp + n_unimp  # total number of nodes"
   ]
  },
  {
   "cell_type": "code",
   "execution_count": null,
   "metadata": {},
   "outputs": [],
   "source": [
    "# Generate sample data\n",
    "\n",
    "G = generate_data(n_unimp, n_imp)\n",
    "pos = nx.spring_layout(G)\n",
    "nx.draw(G, pos, with_labels=True)\n",
    "nx.draw_networkx_edge_labels(G, pos)\n",
    "plt.show()"
   ]
  },
  {
   "cell_type": "code",
   "execution_count": null,
   "metadata": {},
   "outputs": [],
   "source": [
    "# Get a matrix representation of the problem and use Brute force to obtain the optimal solution\n",
    "\n",
    "weights = get_weight_matrix(G)  # Obtain the weight matrix\n",
    "\n",
    "R = compute_normalization_scale(weights)  # The normalization scale suggested by the paper\n",
    "\n",
    "rescaled_weights = weights / R  # The rescaled weight matrix\n",
    "\n",
    "cost_of_graph, partition = brut_force(G,k)  # Uses brute force to find the optimal solution, so that we have a reference \n",
    "                                   # to test our algorithm\n",
    "    \n",
    "normalized_cost = cost_of_graph / R\n",
    "\n",
    "\n",
    "print('original weight matrix =', weights)\n",
    "print('normalization factor =', R)\n",
    "print('rescaled weight matrix =', rescaled_weights)\n",
    "print('original cost =', cost_of_graph)\n",
    "print('normalized cost =', normalized_cost)"
   ]
  },
  {
   "cell_type": "code",
   "execution_count": null,
   "metadata": {},
   "outputs": [],
   "source": [
    "param_history, cost_history, circ_history = full_optimization_loop(n, l, rescaled_weights, p, \n",
    "                                                                   local_optimization_method=local_optimization_method, \n",
    "                                                                   optimal_cost=normalized_cost)"
   ]
  },
  {
   "cell_type": "code",
   "execution_count": null,
   "metadata": {},
   "outputs": [],
   "source": [
    "param_history"
   ]
  },
  {
   "cell_type": "code",
   "execution_count": null,
   "metadata": {},
   "outputs": [],
   "source": [
    "cost_history"
   ]
  },
  {
   "cell_type": "code",
   "execution_count": null,
   "metadata": {},
   "outputs": [],
   "source": [
    "#circ_history[-1].decompose().draw()"
   ]
  },
  {
   "cell_type": "code",
   "execution_count": null,
   "metadata": {},
   "outputs": [],
   "source": [
    "circ = make_full_circuit(n,l,rescaled_weights,p)  # building the full circuit\n",
    "counts, transpiled_circ = run_circuit(circ, param_history[-1], nshots=nshots)  # do a final run with optimal parameters found\n",
    "show_distribution(counts, l)"
   ]
  },
  {
   "cell_type": "markdown",
   "metadata": {},
   "source": [
    "## Algorithm broke into parts"
   ]
  },
  {
   "cell_type": "markdown",
   "metadata": {},
   "source": [
    "### Build the circuit"
   ]
  },
  {
   "cell_type": "code",
   "execution_count": null,
   "metadata": {},
   "outputs": [],
   "source": [
    "mb = make_mixing_block(n,l,1)  # building the mixing block\n",
    "#mb.draw()"
   ]
  },
  {
   "cell_type": "code",
   "execution_count": null,
   "metadata": {},
   "outputs": [],
   "source": [
    "cb = make_cost_block(n,l,rescaled_weights,1)  # building the cost block \n",
    "#cb.draw()"
   ]
  },
  {
   "cell_type": "code",
   "execution_count": null,
   "metadata": {},
   "outputs": [],
   "source": [
    "ib = make_initial_block(n,l)  # building the initialization block\n",
    "#ib.draw()"
   ]
  },
  {
   "cell_type": "code",
   "execution_count": null,
   "metadata": {},
   "outputs": [],
   "source": [
    "circ = make_full_circuit(n,l,rescaled_weights,p)  # building the full circuit\n",
    "#circ.decompose().draw()"
   ]
  },
  {
   "cell_type": "markdown",
   "metadata": {},
   "source": [
    "### Run a sample circuit"
   ]
  },
  {
   "cell_type": "code",
   "execution_count": null,
   "metadata": {
    "scrolled": true
   },
   "outputs": [],
   "source": [
    "counts, transpiled_circ = run_circuit(circ, init_params, nshots=nshots)  # visualize the circuit to be runned\n",
    "transpiled_circ.decompose().draw()"
   ]
  },
  {
   "cell_type": "code",
   "execution_count": null,
   "metadata": {},
   "outputs": [],
   "source": [
    "average_cost = compute_cost(counts, l, rescaled_weights, n_counts = nshots)  # compute the cost from the sample run \n",
    "                                                                             # above\n",
    "average_cost"
   ]
  },
  {
   "cell_type": "markdown",
   "metadata": {},
   "source": [
    "### Run QAOA with only a local optimization algorithm "
   ]
  },
  {
   "cell_type": "code",
   "execution_count": null,
   "metadata": {},
   "outputs": [],
   "source": [
    "func_to_optimize = func_to_optimize_wrapper(circ, l, rescaled_weights, nshots=512, simulator='aer_simulator')"
   ]
  },
  {
   "cell_type": "code",
   "execution_count": null,
   "metadata": {},
   "outputs": [],
   "source": [
    "res = minimize(func_to_optimize, init_params, method=local_optimization_method)\n",
    "print('cost', -1*res.fun)\n",
    "print('approximation_ratio', -1*res.fun / normalized_cost)\n",
    "print('parameters', res.x)"
   ]
  },
  {
   "cell_type": "markdown",
   "metadata": {},
   "source": [
    "# Benchmarking"
   ]
  },
  {
   "cell_type": "code",
   "execution_count": null,
   "metadata": {},
   "outputs": [],
   "source": [
    "distribution_qaoa = show_distribution(counts, l)"
   ]
  },
  {
   "cell_type": "code",
   "execution_count": null,
   "metadata": {},
   "outputs": [],
   "source": [
    "counts_accept=nshots*0.05\n",
    "len_d = len(distribution_qaoa.values())"
   ]
  },
  {
   "cell_type": "code",
   "execution_count": null,
   "metadata": {},
   "outputs": [],
   "source": [
    "Prob_distribution = dict()\n",
    "for key, value in distribution_qaoa.items():\n",
    "    if value > counts_accept:\n",
    "        Prob_distribution[key]=value"
   ]
  },
  {
   "cell_type": "code",
   "execution_count": null,
   "metadata": {},
   "outputs": [],
   "source": [
    "import ast"
   ]
  },
  {
   "cell_type": "code",
   "execution_count": null,
   "metadata": {},
   "outputs": [],
   "source": [
    "for key, value in Prob_distribution.items():\n",
    "    P = {}\n",
    "    participation_data = ast.literal_eval(key)  \n",
    "    for i in range(len(participation_data)):\n",
    "        P[\"P\"+str(i)] = participation_data[i]\n",
    "    a,b = cost(G, P)\n",
    "\n",
    "# Key muss array sein, kein string"
   ]
  },
  {
   "cell_type": "code",
   "execution_count": null,
   "metadata": {},
   "outputs": [],
   "source": [
    "\n",
    "print(partition)"
   ]
  }
 ],
 "metadata": {
  "kernelspec": {
   "display_name": "Python 3",
   "language": "python",
   "name": "python3"
  },
  "language_info": {
   "codemirror_mode": {
    "name": "ipython",
    "version": 3
   },
   "file_extension": ".py",
   "mimetype": "text/x-python",
   "name": "python",
   "nbconvert_exporter": "python",
   "pygments_lexer": "ipython3",
   "version": "3.8.7"
  }
 },
 "nbformat": 4,
 "nbformat_minor": 4
}
